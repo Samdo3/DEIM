{
 "cells": [
  {
   "cell_type": "code",
   "execution_count": 2,
   "id": "f2545737",
   "metadata": {},
   "outputs": [
    {
     "name": "stdout",
     "output_type": "stream",
     "text": [
      "고유 tomo_id 개수: 648\n",
      "       tomo_id  voxel_spacing_angstroms\n",
      "0  tomo_003acc                      6.5\n",
      "1  tomo_00e047                     15.6\n",
      "2  tomo_00e463                     19.7\n",
      "3  tomo_01a877                     13.1\n",
      "4  tomo_02862f                     15.6\n"
     ]
    }
   ],
   "source": [
    "import pandas as pd\n",
    "\n",
    "# 원본 라벨 파일 경로 (실제 경로로 수정)\n",
    "original_labels_path = './train_labels_original.csv' # 사용자가 제공한 파일 경로로 수정\n",
    "df_original = pd.read_csv(original_labels_path)\n",
    "\n",
    "# 필요한 컬럼만 선택: tomo_id, Voxel spacing\n",
    "# Voxel spacing 컬럼 이름이 정확히 'Voxel spacing'인지 확인 필요 (대소문자, 띄어쓰기 등)\n",
    "# 예시: df_original.columns를 출력하여 정확한 컬럼명 확인\n",
    "# print(df_original.columns)\n",
    "df_spacing = df_original[['tomo_id', 'Voxel spacing']].copy()\n",
    "\n",
    "# 중복 제거 (tomo_id별로 Voxel spacing은 동일하므로)\n",
    "df_spacing = df_spacing.drop_duplicates(subset=['tomo_id']).reset_index(drop=True)\n",
    "\n",
    "# 컬럼 이름 변경 (선택 사항, 일관성을 위해)\n",
    "df_spacing.rename(columns={'Voxel spacing': 'voxel_spacing_angstroms'}, inplace=True)\n",
    "\n",
    "print(f\"고유 tomo_id 개수: {df_spacing['tomo_id'].nunique()}\")\n",
    "print(df_spacing.head())"
   ]
  },
  {
   "cell_type": "code",
   "execution_count": 3,
   "id": "75e00c22",
   "metadata": {},
   "outputs": [
    {
     "name": "stdout",
     "output_type": "stream",
     "text": [
      "'./train_voxel_spacing.csv' 파일로 저장 완료.\n"
     ]
    }
   ],
   "source": [
    "# 저장할 경로 및 파일 이름 (실제 경로로 수정)\n",
    "output_csv_path = './train_voxel_spacing.csv'\n",
    "df_spacing.to_csv(output_csv_path, index=False)\n",
    "\n",
    "print(f\"'{output_csv_path}' 파일로 저장 완료.\")"
   ]
  }
 ],
 "metadata": {
  "kernelspec": {
   "display_name": ".venv",
   "language": "python",
   "name": "python3"
  },
  "language_info": {
   "codemirror_mode": {
    "name": "ipython",
    "version": 3
   },
   "file_extension": ".py",
   "mimetype": "text/x-python",
   "name": "python",
   "nbconvert_exporter": "python",
   "pygments_lexer": "ipython3",
   "version": "3.12.5"
  }
 },
 "nbformat": 4,
 "nbformat_minor": 5
}
